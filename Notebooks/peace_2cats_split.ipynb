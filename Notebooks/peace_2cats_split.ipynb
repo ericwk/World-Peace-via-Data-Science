{
 "cells": [
  {
   "cell_type": "code",
   "execution_count": 1,
   "metadata": {},
   "outputs": [],
   "source": [
    "import pandas as pd\n",
    "import numpy as np\n",
    "import pickle\n",
    "import matplotlib.pyplot as plt\n",
    "%matplotlib inline\n",
    "\n",
    "from sklearn.model_selection import train_test_split"
   ]
  },
  {
   "cell_type": "code",
   "execution_count": 2,
   "metadata": {},
   "outputs": [],
   "source": [
    "with open (\"data/pickle_files/peace_originators_clean.pickle\", \"rb\") as f:\n",
    "    disp_mat_trade = pickle.load(f)"
   ]
  },
  {
   "cell_type": "code",
   "execution_count": 3,
   "metadata": {},
   "outputs": [
    {
     "data": {
      "text/html": [
       "<div>\n",
       "<style scoped>\n",
       "    .dataframe tbody tr th:only-of-type {\n",
       "        vertical-align: middle;\n",
       "    }\n",
       "\n",
       "    .dataframe tbody tr th {\n",
       "        vertical-align: top;\n",
       "    }\n",
       "\n",
       "    .dataframe thead th {\n",
       "        text-align: right;\n",
       "    }\n",
       "</style>\n",
       "<table border=\"1\" class=\"dataframe\">\n",
       "  <thead>\n",
       "    <tr style=\"text-align: right;\">\n",
       "      <th></th>\n",
       "      <th>dispnum3</th>\n",
       "      <th>ccode</th>\n",
       "      <th>stabb</th>\n",
       "      <th>styear</th>\n",
       "      <th>hostlev</th>\n",
       "      <th>orig</th>\n",
       "      <th>milex</th>\n",
       "      <th>milper</th>\n",
       "      <th>irst</th>\n",
       "      <th>pec</th>\n",
       "      <th>tpop</th>\n",
       "      <th>upop</th>\n",
       "      <th>cinc</th>\n",
       "      <th>imports</th>\n",
       "      <th>exports</th>\n",
       "    </tr>\n",
       "  </thead>\n",
       "  <tbody>\n",
       "    <tr>\n",
       "      <th>0</th>\n",
       "      <td>100</td>\n",
       "      <td>2</td>\n",
       "      <td>USA</td>\n",
       "      <td>1914</td>\n",
       "      <td>4</td>\n",
       "      <td>1</td>\n",
       "      <td>253205</td>\n",
       "      <td>166</td>\n",
       "      <td>23890</td>\n",
       "      <td>556778</td>\n",
       "      <td>99111.0</td>\n",
       "      <td>23340.0</td>\n",
       "      <td>0.206364</td>\n",
       "      <td>1924.0</td>\n",
       "      <td>2420.0</td>\n",
       "    </tr>\n",
       "    <tr>\n",
       "      <th>1</th>\n",
       "      <td>69</td>\n",
       "      <td>2</td>\n",
       "      <td>USA</td>\n",
       "      <td>1914</td>\n",
       "      <td>4</td>\n",
       "      <td>1</td>\n",
       "      <td>253205</td>\n",
       "      <td>166</td>\n",
       "      <td>23890</td>\n",
       "      <td>556778</td>\n",
       "      <td>99111.0</td>\n",
       "      <td>23340.0</td>\n",
       "      <td>0.206364</td>\n",
       "      <td>1924.0</td>\n",
       "      <td>2420.0</td>\n",
       "    </tr>\n",
       "    <tr>\n",
       "      <th>2</th>\n",
       "      <td>398</td>\n",
       "      <td>2</td>\n",
       "      <td>USA</td>\n",
       "      <td>1915</td>\n",
       "      <td>2</td>\n",
       "      <td>1</td>\n",
       "      <td>257648</td>\n",
       "      <td>174</td>\n",
       "      <td>32667</td>\n",
       "      <td>580731</td>\n",
       "      <td>100546.0</td>\n",
       "      <td>24008.0</td>\n",
       "      <td>0.222083</td>\n",
       "      <td>1703.0</td>\n",
       "      <td>2820.0</td>\n",
       "    </tr>\n",
       "    <tr>\n",
       "      <th>3</th>\n",
       "      <td>1775</td>\n",
       "      <td>2</td>\n",
       "      <td>USA</td>\n",
       "      <td>1915</td>\n",
       "      <td>2</td>\n",
       "      <td>1</td>\n",
       "      <td>257648</td>\n",
       "      <td>174</td>\n",
       "      <td>32667</td>\n",
       "      <td>580731</td>\n",
       "      <td>100546.0</td>\n",
       "      <td>24008.0</td>\n",
       "      <td>0.222083</td>\n",
       "      <td>1703.0</td>\n",
       "      <td>2820.0</td>\n",
       "    </tr>\n",
       "    <tr>\n",
       "      <th>4</th>\n",
       "      <td>399</td>\n",
       "      <td>2</td>\n",
       "      <td>USA</td>\n",
       "      <td>1916</td>\n",
       "      <td>5</td>\n",
       "      <td>1</td>\n",
       "      <td>277421</td>\n",
       "      <td>179</td>\n",
       "      <td>43460</td>\n",
       "      <td>646120</td>\n",
       "      <td>101961.0</td>\n",
       "      <td>24688.0</td>\n",
       "      <td>0.232936</td>\n",
       "      <td>2424.0</td>\n",
       "      <td>5554.0</td>\n",
       "    </tr>\n",
       "  </tbody>\n",
       "</table>\n",
       "</div>"
      ],
      "text/plain": [
       "   dispnum3  ccode stabb  styear  hostlev  orig   milex  milper   irst  \\\n",
       "0       100      2   USA    1914        4     1  253205     166  23890   \n",
       "1        69      2   USA    1914        4     1  253205     166  23890   \n",
       "2       398      2   USA    1915        2     1  257648     174  32667   \n",
       "3      1775      2   USA    1915        2     1  257648     174  32667   \n",
       "4       399      2   USA    1916        5     1  277421     179  43460   \n",
       "\n",
       "      pec      tpop     upop      cinc  imports  exports  \n",
       "0  556778   99111.0  23340.0  0.206364   1924.0   2420.0  \n",
       "1  556778   99111.0  23340.0  0.206364   1924.0   2420.0  \n",
       "2  580731  100546.0  24008.0  0.222083   1703.0   2820.0  \n",
       "3  580731  100546.0  24008.0  0.222083   1703.0   2820.0  \n",
       "4  646120  101961.0  24688.0  0.232936   2424.0   5554.0  "
      ]
     },
     "execution_count": 3,
     "metadata": {},
     "output_type": "execute_result"
    }
   ],
   "source": [
    "disp_mat_trade.head()"
   ]
  },
  {
   "cell_type": "code",
   "execution_count": 4,
   "metadata": {},
   "outputs": [],
   "source": [
    "disp_mat_trade['hostlev'] = disp_mat_trade['hostlev'].map({1:0, 2:0, 3:0, 4:1, 5:1})"
   ]
  },
  {
   "cell_type": "code",
   "execution_count": 5,
   "metadata": {},
   "outputs": [
    {
     "data": {
      "text/plain": [
       "1    1838\n",
       "0    1776\n",
       "Name: hostlev, dtype: int64"
      ]
     },
     "execution_count": 5,
     "metadata": {},
     "output_type": "execute_result"
    }
   ],
   "source": [
    "disp_mat_trade['hostlev'].value_counts()"
   ]
  },
  {
   "cell_type": "code",
   "execution_count": 6,
   "metadata": {},
   "outputs": [],
   "source": [
    "with open(\"data/pickle_files/peace_originators_2cats_clean.pickle\", \"wb\") as f:\n",
    "    pickle.dump(disp_mat_trade, f)"
   ]
  },
  {
   "cell_type": "code",
   "execution_count": 7,
   "metadata": {},
   "outputs": [],
   "source": [
    "X = disp_mat_trade.drop(['dispnum3', 'ccode', 'stabb', 'styear', 'orig', 'hostlev'], axis=1)\n",
    "y = disp_mat_trade['hostlev']"
   ]
  },
  {
   "cell_type": "code",
   "execution_count": 8,
   "metadata": {},
   "outputs": [],
   "source": [
    "X_train, X_test, y_train, y_test = train_test_split(X, y, test_size=0.3, random_state=42)"
   ]
  },
  {
   "cell_type": "code",
   "execution_count": 9,
   "metadata": {},
   "outputs": [],
   "source": [
    "pickle_object = (X_train, X_test, y_train, y_test)\n",
    "with open(\"data/pickle_files/peace_originators_2cats_split.pickle\", \"wb\") as f:\n",
    "    pickle.dump(pickle_object, f)"
   ]
  }
 ],
 "metadata": {
  "kernelspec": {
   "display_name": "Python 3",
   "language": "python",
   "name": "python3"
  },
  "language_info": {
   "codemirror_mode": {
    "name": "ipython",
    "version": 3
   },
   "file_extension": ".py",
   "mimetype": "text/x-python",
   "name": "python",
   "nbconvert_exporter": "python",
   "pygments_lexer": "ipython3",
   "version": "3.6.6"
  }
 },
 "nbformat": 4,
 "nbformat_minor": 2
}
